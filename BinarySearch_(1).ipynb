{
 "cells": [
  {
   "cell_type": "markdown",
   "id": "103805b4",
   "metadata": {},
   "source": [
    "# Binary search in python"
   ]
  },
  {
   "cell_type": "code",
   "execution_count": 3,
   "id": "940120fb",
   "metadata": {
    "scrolled": true
   },
   "outputs": [
    {
     "name": "stdout",
     "output_type": "stream",
     "text": [
      "[1, 3, 5, 7, 9, 11, 13, 15, 17, 19, 21, 23, 25, 27, 29, 31, 33, 35, 37, 39, 41, 43, 45, 47, 49, 51, 53, 55, 57, 59, 61, 63, 65, 67, 69, 71, 73, 75, 77, 79, 81, 83, 85, 87, 89, 91, 93, 95, 97, 99]\n"
     ]
    }
   ],
   "source": [
    "# Making a python list \n",
    "\n",
    "arr=[]\n",
    "for n in range(1,100,2):\n",
    "    arr.append(n)\n",
    "print(arr)"
   ]
  },
  {
   "cell_type": "code",
   "execution_count": 4,
   "id": "1852f7fa",
   "metadata": {},
   "outputs": [],
   "source": [
    "def binary_search(array,num,l,r):\n",
    "    \n",
    "#     base condition\n",
    "    if l>r:\n",
    "        return -1\n",
    "    \n",
    "    \n",
    "#     finding centre of the list\n",
    "    mid=int(l+(r-l)/2)\n",
    "\n",
    "    \n",
    "#     if number found return true\n",
    "    if array[mid]==num:\n",
    "        return mid\n",
    "    \n",
    "#     if number is greater than mid, find in right half\n",
    "    elif num>array[mid]:\n",
    "        return binary_search(array,num,mid+1,r)\n",
    "        \n",
    "#     if number is smaller than mid, find in left half\n",
    "    else:\n",
    "        return binary_search(array,num,l,mid-1)"
   ]
  },
  {
   "cell_type": "code",
   "execution_count": 10,
   "id": "891bbc3a",
   "metadata": {},
   "outputs": [
    {
     "name": "stdout",
     "output_type": "stream",
     "text": [
      "Enter number to find:  71\n"
     ]
    }
   ],
   "source": [
    "number=int(input(\"Enter number to find:  \"))\n",
    "length=len(arr)-1\n",
    "\n",
    "# calling the function\n",
    "res=binary_search(arr,number,0,length)\n",
    "\n"
   ]
  },
  {
   "cell_type": "code",
   "execution_count": 12,
   "id": "452bca71",
   "metadata": {},
   "outputs": [
    {
     "name": "stdout",
     "output_type": "stream",
     "text": [
      "Element found at 35 index\n"
     ]
    }
   ],
   "source": [
    "if res== -1:\n",
    "    print(\"Element not present in list\")\n",
    "else:\n",
    "    print(f\"Element found at {res} index\")"
   ]
  }
 ],
 "metadata": {
  "kernelspec": {
   "display_name": "Python 3 (ipykernel)",
   "language": "python",
   "name": "python3"
  },
  "language_info": {
   "codemirror_mode": {
    "name": "ipython",
    "version": 3
   },
   "file_extension": ".py",
   "mimetype": "text/x-python",
   "name": "python",
   "nbconvert_exporter": "python",
   "pygments_lexer": "ipython3",
   "version": "3.10.2"
  }
 },
 "nbformat": 4,
 "nbformat_minor": 5
}
